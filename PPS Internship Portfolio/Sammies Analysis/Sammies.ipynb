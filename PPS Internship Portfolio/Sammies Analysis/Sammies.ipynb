{
  "nbformat": 4,
  "nbformat_minor": 0,
  "metadata": {
    "colab": {
      "provenance": []
    },
    "kernelspec": {
      "name": "python3",
      "display_name": "Python 3"
    },
    "language_info": {
      "name": "python"
    }
  },
  "cells": [
    {
      "cell_type": "markdown",
      "source": [
        "# SAMMIES Demographics (2022 - 2023)"
      ],
      "metadata": {
        "id": "Ei8mU21j03JW"
      }
    },
    {
      "cell_type": "markdown",
      "source": [
        "Import cleaned data: Sammies_demo.xlsx - (2022 & 2023)\n",
        "\n"
      ],
      "metadata": {
        "id": "1X0wMO1E09DM"
      }
    },
    {
      "cell_type": "code",
      "execution_count": null,
      "metadata": {
        "id": "v5RifqmQvKVM"
      },
      "outputs": [],
      "source": [
        "# import packages\n",
        "import pandas as pd\n",
        "import numpy as np\n",
        "\n",
        "# display entire columns\n",
        "pd.set_option('display.max_columns', None)\n",
        "\n",
        "# read and set variables to the 2022 and 2023 demographic data by specifying worksheet name\n",
        "df1 = pd.read_excel('Sammies_demo.xlsx', sheet_name='2022')\n",
        "df2 = pd.read_excel('Sammies_demo.xlsx', sheet_name='2023')"
      ]
    },
    {
      "cell_type": "markdown",
      "source": [
        "Cleaning columns"
      ],
      "metadata": {
        "id": "3TUVGV-6rmVC"
      }
    },
    {
      "cell_type": "code",
      "source": [
        "# function to check if a word exists after a semicolon\n",
        "def check_for_two_or_more_race_selections(sentence):\n",
        "    if pd.isna(sentence):\n",
        "        return 'Prefer not to answer'  # replace missing values with 'Prefer not to answer'\n",
        "    else:\n",
        "        parts = sentence.split(';')\n",
        "\n",
        "        # check if there is a word after the semicolon\n",
        "        if len(parts) > 1 and parts[1].strip():\n",
        "            return 'Two or more races' # if there is a word after a semicolon,\n",
        "                                       # then it indicates there is a selection of more than one race\n",
        "        else:\n",
        "            return sentence   # if there isn't, print out the original selection\n",
        "\n",
        "# apply the function and create a new column 'Race'\n",
        "df1['Race'] = df1['Are you:'].apply(check_for_two_or_more_race_selections)\n",
        "df2['Race'] = df2['What is your race?'].apply(check_for_two_or_more_race_selections)"
      ],
      "metadata": {
        "id": "hrxzPISpw5J5"
      },
      "execution_count": null,
      "outputs": []
    },
    {
      "cell_type": "code",
      "source": [
        "# drop columns that are not use\n",
        "df1 = df1.drop(['Start time', 'Completion time', 'Email', 'Name', 'What is your name?',\n",
        "          'ID', 'Are you:'], axis=1)\n",
        "\n",
        "df2 = df2.drop(['Start time', 'Completion time', 'Email', 'Name', 'What is your name?',\n",
        "          'ID', 'What is your race?'], axis=1)"
      ],
      "metadata": {
        "id": "21-hKhzhuCNC"
      },
      "execution_count": null,
      "outputs": []
    },
    {
      "cell_type": "code",
      "source": [
        "# print out 2022 dataframe\n",
        "print('Sammies 2022 Demographics:')\n",
        "df1.head()"
      ],
      "metadata": {
        "id": "Y0ZqWxVXvdZJ"
      },
      "execution_count": null,
      "outputs": []
    },
    {
      "cell_type": "code",
      "source": [
        "# print out 2023 dataframe\n",
        "print('Sammies 2023 Demographics:')\n",
        "df2.head()"
      ],
      "metadata": {
        "id": "2Dvrg6-ev8GV"
      },
      "execution_count": null,
      "outputs": []
    },
    {
      "cell_type": "code",
      "source": [
        "# creating excel files with the cleaned data\n",
        "Sammies_2022 = 'Sammies_2022.xlsx'\n",
        "Sammies_2023 = 'Sammies_2023.xlsx'\n",
        "\n",
        "df1.to_excel(Sammies_2022, index=False)\n",
        "df2.to_excel(Sammies_2023, index=False)\n",
        "\n",
        "# prints the following if file is created\n",
        "print(f\"DataFrame saved to {Sammies_2022}\")\n",
        "print(f\"DataFrame saved to {Sammies_2023}\")"
      ],
      "metadata": {
        "colab": {
          "base_uri": "https://localhost:8080/"
        },
        "id": "mietyPOF2gmO",
        "outputId": "f9c457f6-967c-4e00-c8d3-1fcf06a29a5e"
      },
      "execution_count": null,
      "outputs": [
        {
          "output_type": "stream",
          "name": "stdout",
          "text": [
            "DataFrame saved to Sammies_2022.xlsx\n",
            "DataFrame saved to Sammies_2023.xlsx\n"
          ]
        }
      ]
    },
    {
      "cell_type": "code",
      "source": [
        "# read the cleaned files\n",
        "read_df1 = pd.read_excel(\"Sammies_demo.xlsx\", sheet_name='S_2022')\n",
        "\n",
        "# display the percentages of each column values (2022)\n",
        "for column in read_df1.columns:\n",
        "    percentages = read_df1[column].value_counts(normalize=True) * 100\n",
        "    print(f\"\\nColumn: {column}\")\n",
        "    print(percentages)"
      ],
      "metadata": {
        "id": "JkGP0YnA-Tii"
      },
      "execution_count": null,
      "outputs": []
    },
    {
      "cell_type": "code",
      "source": [
        "read_df2 = pd.read_excel(\"Sammies_demo.xlsx\", sheet_name='S_2023')\n",
        "\n",
        "# display the percentages of each column values (2023)\n",
        "for column in read_df2.columns:\n",
        "    percentages = read_df2[column].value_counts(normalize=True) * 100\n",
        "    print(f\"\\nColumn: {column}\")\n",
        "    print(percentages)"
      ],
      "metadata": {
        "colab": {
          "base_uri": "https://localhost:8080/"
        },
        "id": "kgNLXUMqHM8-",
        "outputId": "8b8c1d7f-acc6-4b84-d2a3-67fd693ed202"
      },
      "execution_count": null,
      "outputs": [
        {
          "output_type": "stream",
          "name": "stdout",
          "text": [
            "\n",
            "Column: Race\n",
            "White                               70.170455\n",
            "Black or African American           13.636364\n",
            "Two or more races                    5.681818\n",
            "Asian                                4.545455\n",
            "Prefer not to say                    4.545455\n",
            "Hispanic/Latino                      0.568182\n",
            "Ashkenazi                            0.284091\n",
            "American Indian or Alaska Native     0.284091\n",
            "Iranian, Armenian                    0.284091\n",
            "Name: Race, dtype: float64\n",
            "\n",
            "Column: What is your ethnicity?\n",
            "Not Hispanic or Latino     86.079545\n",
            "Hispanic or Latino         10.227273\n",
            "Prefer not to say           3.693182\n",
            "Name: What is your ethnicity?, dtype: float64\n",
            "\n",
            "Column: What is your gender?\n",
            "Man                           52.840909\n",
            "Woman                         43.750000\n",
            "Prefer not to say              2.272727\n",
            "Nonbinary or Nonconforming     0.852273\n",
            "Genderqueer                    0.284091\n",
            "Name: What is your gender?, dtype: float64\n",
            "\n",
            "Column: What is your age?\n",
            "50 to 59             28.409091\n",
            "40 to 49             25.284091\n",
            "60 years +           23.863636\n",
            "30 to 39             19.034091\n",
            "26 to 29              1.136364\n",
            "Prefer not to say     1.136364\n",
            "18 to 25              1.136364\n",
            "Name: What is your age?, dtype: float64\n",
            "\n",
            "Column: Do you identify as an immigrant or first-generation American?\n",
            "No                   82.102273\n",
            "Yes                  15.056818\n",
            "Prefer not to say     2.840909\n",
            "Name: Do you identify as an immigrant or first-generation American?, dtype: float64\n",
            "\n",
            "Column: Do you identify as a person with a disability?\n",
            "No                   84.375\n",
            "Yes                   9.375\n",
            "Prefer not to say     6.250\n",
            "Name: Do you identify as a person with a disability?, dtype: float64\n",
            "\n",
            "Column: Have you ever served on active duty in the U.S. Armed Forces, Military Reserves, or National Guard?\n",
            "No                   75.000000\n",
            "Yes                  23.295455\n",
            "Prefer not to say     1.704545\n",
            "Name: Have you ever served on active duty in the U.S. Armed Forces, Military Reserves, or National Guard?, dtype: float64\n",
            "\n",
            "Column: Do you identify yourself as a member of the Lesbian, Gay, Bisexual, Transgender, and/or Queer (LGBTQ+) community?\n",
            "No                   88.068182\n",
            "Yes                   6.250000\n",
            "Prefer not to say     5.681818\n",
            "Name: Do you identify yourself as a member of the Lesbian, Gay, Bisexual, Transgender, and/or Queer (LGBTQ+) community?, dtype: float64\n",
            "\n",
            "Column: How many years have you been a public servant?\n",
            "More than 20 years       44.602273\n",
            "11 to 14 years           16.477273\n",
            "15 to 20 years           16.193182\n",
            "6 to 10 years            13.636364\n",
            "1 to 3 years              4.829545\n",
            "4 to 5 years              3.409091\n",
            "Prefer not to say         0.568182\n",
            "Less than 1 year          0.284091\n",
            "Name: How many years have you been a public servant?, dtype: float64\n",
            "\n",
            "Column: Are you planning to retire in 2023?\n",
            "No                   90.909091\n",
            "Yes                   5.113636\n",
            "Prefer not to say     3.977273\n",
            "Name: Are you planning to retire in 2023?, dtype: float64\n"
          ]
        }
      ]
    }
  ]
}